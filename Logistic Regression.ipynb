{
 "cells": [
  {
   "cell_type": "code",
   "execution_count": 2,
   "metadata": {},
   "outputs": [],
   "source": [
    "from sklearn import datasets, linear_model\n",
    "from sklearn.model_selection import train_test_split\n",
    "import matplotlib as plt\n",
    "%matplotlib inline"
   ]
  },
  {
   "cell_type": "code",
   "execution_count": 3,
   "metadata": {},
   "outputs": [],
   "source": [
    "def get_data():\n",
    "    iris_data = datasets.load_digits()\n",
    "    data = iris_data.data\n",
    "    targets = iris_data.target\n",
    "    X_train, X_test, y_train, y_test = train_test_split(data,targets,test_size=0.2)\n",
    "    return (X_train, X_test, y_train, y_test)"
   ]
  },
  {
   "cell_type": "code",
   "execution_count": 4,
   "metadata": {},
   "outputs": [],
   "source": [
    "X_train, X_test, y_train, y_test = get_data()"
   ]
  },
  {
   "cell_type": "code",
   "execution_count": 5,
   "metadata": {},
   "outputs": [
    {
     "data": {
      "text/plain": [
       "(array([[ 0.,  0.,  1., ..., 16., 13.,  3.],\n",
       "        [ 0.,  0.,  9., ...,  3.,  0.,  0.],\n",
       "        [ 0.,  0.,  0., ...,  0.,  0.,  0.],\n",
       "        ...,\n",
       "        [ 0.,  0.,  4., ...,  0.,  0.,  0.],\n",
       "        [ 0.,  0., 12., ..., 15.,  6.,  0.],\n",
       "        [ 0.,  0.,  4., ...,  0.,  0.,  0.]]),\n",
       " array([[ 0.,  0.,  4., ...,  8.,  0.,  0.],\n",
       "        [ 0.,  0.,  0., ...,  0.,  0.,  0.],\n",
       "        [ 0.,  0.,  7., ..., 11.,  3.,  0.],\n",
       "        ...,\n",
       "        [ 0.,  1., 15., ..., 16., 16.,  5.],\n",
       "        [ 0.,  0.,  1., ..., 12.,  7.,  0.],\n",
       "        [ 0.,  0.,  7., ...,  5.,  0.,  0.]]),\n",
       " array([3, 0, 7, ..., 8, 9, 7]),\n",
       " array([0, 4, 3, 8, 4, 1, 5, 3, 5, 6, 7, 6, 2, 9, 3, 1, 4, 7, 9, 4, 5, 4,\n",
       "        1, 3, 5, 5, 9, 6, 7, 4, 2, 2, 3, 5, 1, 9, 6, 0, 6, 8, 6, 0, 5, 4,\n",
       "        1, 4, 5, 7, 6, 9, 5, 8, 4, 4, 9, 5, 0, 0, 9, 1, 4, 6, 0, 9, 2, 1,\n",
       "        5, 6, 1, 8, 3, 6, 4, 9, 5, 7, 7, 4, 9, 7, 0, 1, 7, 6, 1, 9, 5, 9,\n",
       "        0, 4, 2, 4, 2, 4, 6, 2, 6, 9, 6, 3, 8, 7, 1, 4, 6, 1, 3, 6, 2, 5,\n",
       "        9, 8, 6, 8, 5, 8, 0, 6, 3, 7, 8, 1, 3, 2, 8, 3, 8, 2, 7, 4, 6, 9,\n",
       "        2, 6, 1, 9, 0, 9, 5, 7, 7, 1, 0, 2, 8, 6, 1, 5, 8, 5, 3, 2, 1, 2,\n",
       "        7, 8, 2, 0, 8, 7, 9, 4, 2, 5, 7, 2, 0, 0, 3, 2, 1, 1, 3, 7, 1, 4,\n",
       "        7, 6, 2, 8, 3, 9, 6, 3, 5, 3, 2, 4, 3, 9, 7, 0, 7, 9, 5, 7, 9, 2,\n",
       "        0, 5, 5, 7, 9, 7, 2, 0, 7, 2, 4, 4, 3, 4, 0, 0, 3, 3, 1, 9, 3, 2,\n",
       "        2, 3, 0, 7, 7, 8, 9, 5, 0, 1, 3, 6, 2, 0, 1, 9, 2, 6, 9, 8, 7, 7,\n",
       "        2, 0, 0, 2, 8, 9, 8, 1, 5, 4, 1, 0, 8, 1, 8, 1, 2, 1, 6, 6, 4, 3,\n",
       "        4, 2, 6, 0, 6, 4, 5, 4, 1, 3, 2, 1, 1, 1, 7, 3, 9, 1, 7, 3, 1, 8,\n",
       "        7, 6, 6, 3, 6, 3, 7, 7, 0, 7, 6, 3, 1, 5, 7, 9, 2, 8, 8, 9, 4, 8,\n",
       "        9, 4, 5, 0, 8, 8, 0, 3, 4, 1, 8, 7, 9, 7, 6, 8, 3, 0, 5, 7, 1, 0,\n",
       "        2, 0, 9, 5, 9, 0, 1, 2, 6, 5, 2, 3, 3, 8, 5, 3, 8, 4, 2, 1, 9, 7,\n",
       "        7, 6, 5, 1, 9, 2, 6, 8]))"
      ]
     },
     "execution_count": 5,
     "metadata": {},
     "output_type": "execute_result"
    }
   ],
   "source": [
    "get_data()"
   ]
  },
  {
   "cell_type": "markdown",
   "metadata": {},
   "source": [
    "# Implementation of Logistic Regression without external libraries"
   ]
  },
  {
   "cell_type": "code",
   "execution_count": 9,
   "metadata": {},
   "outputs": [],
   "source": [
    "def sigmoid(Z):\n",
    "    #implement the sigmoid activation of the function (~1 Line of Code)\n",
    "    A = None # \n",
    "    assert(a.shape == Z.shape)\n",
    "    return A\n",
    "\n"
   ]
  },
  {
   "cell_type": "code",
   "execution_count": 10,
   "metadata": {},
   "outputs": [],
   "source": [
    "def Output(W,b,X):\n",
    "    assert(W.shape[1] == X.shape[0])\n",
    "    assert(W.shape[0] == b.shape[0])\n",
    "    #imlpement the output of the node before activation (~1 Line of Code)\n",
    "    Z = None # this is the output before the activation function Z = W'.X+b\n",
    "    \n",
    "    assert(b.shape == Z.shape)\n",
    "    return Z"
   ]
  },
  {
   "cell_type": "code",
   "execution_count": 11,
   "metadata": {},
   "outputs": [],
   "source": [
    "def activated_Output(W,b,X):\n",
    "    #Your code Here (~2 Line of Code)\n",
    "    Z = None # this is the output before activation\n",
    "    A = None # this is the final output of the logistic Unit\n",
    "    \n",
    "    assert(X.shape == Z.shape)\n",
    "    assert(Z.shape == A.shape)\n",
    "    return A"
   ]
  },
  {
   "cell_type": "code",
   "execution_count": 12,
   "metadata": {},
   "outputs": [],
   "source": [
    "def compute_Cost(W,b,X,Y):\n",
    "    A = activated_Output(W,b,X)\n",
    "    #Your code here (~1 Line of Code)\n",
    "    cost = None\n",
    "    \n",
    "    assert(cost.shape == A.shape)\n",
    "    return cost\n"
   ]
  },
  {
   "cell_type": "code",
   "execution_count": 15,
   "metadata": {},
   "outputs": [],
   "source": [
    "def get_Gradients(W,b,X,Y):\n",
    "    cost  = compute_Cost(W,b,X,Y)\n",
    "    weights_cost = None \n",
    "    bias_cost = None \n",
    "    \n",
    "    assert(weights_cost.shape == W.shape)\n",
    "    assert(bias_cost.shape == b.shape)\n",
    "    return weights_cost,bias_cost"
   ]
  },
  {
   "cell_type": "code",
   "execution_count": 16,
   "metadata": {},
   "outputs": [],
   "source": [
    "def calculate_gradient_for_one_pass(W,b,X,Y,learning_rate):\n",
    "    dW,db = get_Gradients(W,b,X,Y)\n",
    "    #your code here\n",
    "    new_W = None\n",
    "    new_b = None\n",
    "    \n",
    "    assert(new_W.shape == W.shape)\n",
    "    assert(new_b.shape == b.shape)\n",
    "    W = new_W\n",
    "    b = new_b\n",
    "    return W,b\n"
   ]
  },
  {
   "cell_type": "code",
   "execution_count": null,
   "metadata": {},
   "outputs": [],
   "source": [
    "def Train_Model(X_train, y_train):\n",
    "    #initialize the weights and bias\n",
    "    X_train = X_train.reshape(-1)\n",
    "    W = np.ones((X_train.shape),1) #weights\n",
    "    b = np.ones(X_train.shape) #bias"
   ]
  }
 ],
 "metadata": {
  "kernelspec": {
   "display_name": "Python 2",
   "language": "python",
   "name": "python2"
  },
  "language_info": {
   "codemirror_mode": {
    "name": "ipython",
    "version": 2
   },
   "file_extension": ".py",
   "mimetype": "text/x-python",
   "name": "python",
   "nbconvert_exporter": "python",
   "pygments_lexer": "ipython2",
   "version": "2.7.14"
  }
 },
 "nbformat": 4,
 "nbformat_minor": 2
}
