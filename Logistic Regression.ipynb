{
 "cells": [
  {
   "cell_type": "code",
   "execution_count": 6,
   "metadata": {},
   "outputs": [],
   "source": [
    "from sklearn import datasets, linear_model\n",
    "from sklearn.model_selection import train_test_split\n",
    "import matplotlib as plt\n",
    "%matplotlib inline"
   ]
  },
  {
   "cell_type": "code",
   "execution_count": 7,
   "metadata": {},
   "outputs": [],
   "source": [
    "def get_data():\n",
    "    iris_data = datasets.load_digits()\n",
    "    data = iris_data.data\n",
    "    targets = iris_data.target\n",
    "    X_train, X_test, y_train, y_test = train_test_split(data,targets,test_size=0.2)\n",
    "    return (X_train, X_test, y_train, y_test)"
   ]
  },
  {
   "cell_type": "code",
   "execution_count": 8,
   "metadata": {},
   "outputs": [],
   "source": [
    "X_train, X_test, y_train, y_test = get_data()"
   ]
  },
  {
   "cell_type": "markdown",
   "metadata": {},
   "source": [
    "# Implementation of Logistic Regression without external libraries"
   ]
  },
  {
   "cell_type": "code",
   "execution_count": 9,
   "metadata": {},
   "outputs": [],
   "source": [
    "def sigmoid(Z):\n",
    "    #implement the sigmoid activation of the function (~1 Line of Code)\n",
    "    A = None # \n",
    "    assert(a.shape == Z.shape)\n",
    "    return A\n",
    "\n"
   ]
  },
  {
   "cell_type": "code",
   "execution_count": 10,
   "metadata": {},
   "outputs": [],
   "source": [
    "def Output(W,b,X):\n",
    "    assert(W.shape[1] == X.shape[0])\n",
    "    assert(W.shape[0] == b.shape[0])\n",
    "    #imlpement the output of the node before activation (~1 Line of Code)\n",
    "    Z = None # this is the output before the activation function Z = W'.X+b\n",
    "    \n",
    "    assert(b.shape == Z.shape)\n",
    "    return Z"
   ]
  },
  {
   "cell_type": "code",
   "execution_count": 11,
   "metadata": {},
   "outputs": [],
   "source": [
    "def activated_Output(W,b,X):\n",
    "    #Your code Here (~2 Line of Code)\n",
    "    Z = None # this is the output before activation\n",
    "    A = None # this is the final output of the logistic Unit\n",
    "    \n",
    "    assert(X.shape == Z.shape)\n",
    "    assert(Z.shape == A.shape)\n",
    "    return A"
   ]
  },
  {
   "cell_type": "code",
   "execution_count": 12,
   "metadata": {},
   "outputs": [],
   "source": [
    "def compute_Cost(W,b,X,Y):\n",
    "    A = activated_Output(W,b,X)\n",
    "    #Your code here (~1 Line of Code)\n",
    "    cost = None\n",
    "    \n",
    "    assert(cost.shape == A.shape)\n",
    "    return cost\n"
   ]
  },
  {
   "cell_type": "code",
   "execution_count": 15,
   "metadata": {},
   "outputs": [],
   "source": [
    "def get_Gradients(W,b,X,Y):\n",
    "    cost  = compute_Cost(W,b,X,Y)\n",
    "    weights_cost = None \n",
    "    bias_cost = None \n",
    "    \n",
    "    assert(weights_cost.shape == W.shape)\n",
    "    assert(bias_cost.shape == b.shape)\n",
    "    return weights_cost,bias_cost"
   ]
  },
  {
   "cell_type": "code",
   "execution_count": 16,
   "metadata": {},
   "outputs": [],
   "source": [
    "def calculate_gradient_for_one_pass(W,b,X,Y,learning_rate):\n",
    "    dW,db = get_Gradients(W,b,X,Y)\n",
    "    #your code here\n",
    "    new_W = None\n",
    "    new_b = None\n",
    "    \n",
    "    assert(new_W.shape == W.shape)\n",
    "    assert(new_b.shape == b.shape)\n",
    "    W = new_W\n",
    "    b = new_b\n",
    "    return W,b\n"
   ]
  },
  {
   "cell_type": "code",
   "execution_count": null,
   "metadata": {},
   "outputs": [],
   "source": [
    "def Train_Model(X_train, y_train):\n",
    "    #initialize the weights and bias\n",
    "    X_train = X_train.reshape(-1)\n",
    "    W = np.ones((X_train.shape),1) #weights\n",
    "    b = np.ones(X_train.shape) #bias"
   ]
  }
 ],
 "metadata": {
  "kernelspec": {
   "display_name": "Python 2",
   "language": "python",
   "name": "python2"
  },
  "language_info": {
   "codemirror_mode": {
    "name": "ipython",
    "version": 2
   },
   "file_extension": ".py",
   "mimetype": "text/x-python",
   "name": "python",
   "nbconvert_exporter": "python",
   "pygments_lexer": "ipython2",
   "version": "2.7.14"
  }
 },
 "nbformat": 4,
 "nbformat_minor": 2
}
