{
 "cells": [
  {
   "cell_type": "code",
   "execution_count": null,
   "metadata": {
    "ExecuteTime": {
     "end_time": "2018-05-23T15:35:23.903252Z",
     "start_time": "2018-05-23T15:35:23.605538Z"
    }
   },
   "outputs": [],
   "source": [
    "# import statement for numpy\n",
    "import numpy as np"
   ]
  },
  {
   "cell_type": "markdown",
   "metadata": {},
   "source": [
    "# Creation of np array"
   ]
  },
  {
   "cell_type": "code",
   "execution_count": null,
   "metadata": {
    "ExecuteTime": {
     "end_time": "2018-05-23T15:35:23.917148Z",
     "start_time": "2018-05-23T15:35:23.906370Z"
    }
   },
   "outputs": [],
   "source": [
    "#static creation of np array from list\n",
    "list_a = [1,2,3]\n",
    "a = np.array(list_a)\n",
    "print (a)\n",
    "print (type(a))\n",
    "print (a.shape)"
   ]
  },
  {
   "cell_type": "code",
   "execution_count": null,
   "metadata": {
    "ExecuteTime": {
     "end_time": "2018-05-23T15:35:23.935386Z",
     "start_time": "2018-05-23T15:35:23.922430Z"
    }
   },
   "outputs": [],
   "source": [
    "# 2d arrays\n",
    "list_b = [[1,0,0],\n",
    "     [0,1,0],\n",
    "     [0,0,1]]\n",
    "b = np.array(list_b)\n",
    "print (b)\n",
    "print (type(b))\n",
    "print (b.shape)"
   ]
  },
  {
   "cell_type": "code",
   "execution_count": null,
   "metadata": {
    "ExecuteTime": {
     "end_time": "2018-05-23T15:35:23.954285Z",
     "start_time": "2018-05-23T15:35:23.939383Z"
    }
   },
   "outputs": [],
   "source": [
    "#To create 0's and 1's array\n",
    "zeroArray = np.zeros((2,3))\n",
    "oneArray = np.ones((3,4))\n",
    "print (zeroArray)\n",
    "print (oneArray)"
   ]
  },
  {
   "cell_type": "code",
   "execution_count": null,
   "metadata": {
    "ExecuteTime": {
     "end_time": "2018-05-23T15:35:23.976733Z",
     "start_time": "2018-05-23T15:35:23.958331Z"
    }
   },
   "outputs": [],
   "source": [
    "# generating Random numbers\n",
    "c = np.random.randint(low=1,high=10,size=(3,3))\n",
    "d = np.random.rand(8,3)\n",
    "e = np.random.random_sample((3,4))\n",
    "print (c)\n",
    "print (d)\n",
    "print (e)"
   ]
  },
  {
   "cell_type": "markdown",
   "metadata": {},
   "source": [
    "# Reshaping array"
   ]
  },
  {
   "cell_type": "code",
   "execution_count": null,
   "metadata": {
    "ExecuteTime": {
     "end_time": "2018-05-23T15:35:23.999537Z",
     "start_time": "2018-05-23T15:35:23.980468Z"
    }
   },
   "outputs": [],
   "source": [
    "#reshaping arrays into required shape\n",
    "d_1 = np.reshape(d,newshape=(6,4))\n",
    "# in order to reshape the 8x3 into 6x4, size can also be mentioned as 6,-1; \n",
    "# the compiler auto computes the remaining factor in place of -1\n",
    "d_2 = d.reshape((6,-1))\n",
    "print (d_1)\n",
    "print (d_2)\n",
    "print (d_1 == d_2)"
   ]
  },
  {
   "cell_type": "code",
   "execution_count": null,
   "metadata": {
    "ExecuteTime": {
     "end_time": "2018-05-23T15:35:24.013137Z",
     "start_time": "2018-05-23T15:35:24.005781Z"
    }
   },
   "outputs": [],
   "source": [
    "# Task : try to reshape the array into a 3d array of dimension 2x3x4"
   ]
  },
  {
   "cell_type": "markdown",
   "metadata": {},
   "source": [
    "# Deletion of elements"
   ]
  },
  {
   "cell_type": "code",
   "execution_count": null,
   "metadata": {
    "ExecuteTime": {
     "end_time": "2018-05-23T15:35:24.030355Z",
     "start_time": "2018-05-23T15:35:24.020446Z"
    }
   },
   "outputs": [],
   "source": [
    "# deletion of rows/cols\n",
    "d_colDelete = np.delete(d,1,axis = 1)\n",
    "d_rowDelete = np.delete(d,2,axis = 0)\n",
    "print (d_colDelete.shape)\n",
    "print (d_rowDelete.shape)"
   ]
  },
  {
   "cell_type": "code",
   "execution_count": null,
   "metadata": {
    "ExecuteTime": {
     "end_time": "2018-05-23T15:35:24.043052Z",
     "start_time": "2018-05-23T15:35:24.036309Z"
    }
   },
   "outputs": [],
   "source": [
    "# Learn the concepts of axis properly. Look up stackoverflow or any python documentation"
   ]
  },
  {
   "cell_type": "code",
   "execution_count": null,
   "metadata": {
    "ExecuteTime": {
     "end_time": "2018-05-23T15:35:24.054460Z",
     "start_time": "2018-05-23T15:35:24.048648Z"
    }
   },
   "outputs": [],
   "source": [
    "# delete a particular element of array c"
   ]
  },
  {
   "cell_type": "markdown",
   "metadata": {},
   "source": [
    "# Merging Rows / Columns"
   ]
  },
  {
   "cell_type": "code",
   "execution_count": null,
   "metadata": {
    "ExecuteTime": {
     "end_time": "2018-05-23T15:35:24.065854Z",
     "start_time": "2018-05-23T15:35:24.059225Z"
    }
   },
   "outputs": [],
   "source": [
    "# mergeing rows/cols\n",
    "mergeRows = np.vstack((c,d))\n",
    "mergeCols = np.hstack((c,e))"
   ]
  },
  {
   "cell_type": "code",
   "execution_count": null,
   "metadata": {
    "ExecuteTime": {
     "end_time": "2018-05-23T15:35:24.081593Z",
     "start_time": "2018-05-23T15:35:24.071818Z"
    }
   },
   "outputs": [],
   "source": [
    "print (mergeRows)"
   ]
  },
  {
   "cell_type": "code",
   "execution_count": null,
   "metadata": {
    "ExecuteTime": {
     "end_time": "2018-05-23T15:35:24.095793Z",
     "start_time": "2018-05-23T15:35:24.087851Z"
    }
   },
   "outputs": [],
   "source": [
    "print (mergeCols)"
   ]
  },
  {
   "cell_type": "code",
   "execution_count": null,
   "metadata": {
    "ExecuteTime": {
     "end_time": "2018-05-23T15:35:24.106243Z",
     "start_time": "2018-05-23T15:35:24.100140Z"
    }
   },
   "outputs": [],
   "source": [
    "# Task: look up np.concatenate and do the above performed operations using it "
   ]
  },
  {
   "cell_type": "markdown",
   "metadata": {},
   "source": [
    "# Few tasks on np using aggregate functions"
   ]
  },
  {
   "cell_type": "code",
   "execution_count": null,
   "metadata": {
    "ExecuteTime": {
     "end_time": "2018-05-23T15:35:24.115888Z",
     "start_time": "2018-05-23T15:35:24.110775Z"
    }
   },
   "outputs": [],
   "source": [
    "# Task: find the row wise min of the array c\n",
    "# find the column wise mean of array d\n",
    "# find the row wise mean of array e\n",
    "# find the max of all the values in the array c"
   ]
  }
 ],
 "metadata": {
  "anaconda-cloud": {},
  "kernelspec": {
   "display_name": "Python [default]",
   "language": "python",
   "name": "python2"
  },
  "language_info": {
   "codemirror_mode": {
    "name": "ipython",
    "version": 2
   },
   "file_extension": ".py",
   "mimetype": "text/x-python",
   "name": "python",
   "nbconvert_exporter": "python",
   "pygments_lexer": "ipython2",
   "version": "2.7.12"
  }
 },
 "nbformat": 4,
 "nbformat_minor": 2
}
