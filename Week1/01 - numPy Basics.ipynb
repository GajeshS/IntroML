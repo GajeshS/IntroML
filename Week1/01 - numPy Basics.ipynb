{
 "cells": [
  {
   "cell_type": "code",
   "execution_count": 1,
   "metadata": {
    "ExecuteTime": {
     "end_time": "2018-08-22T16:46:22.297328Z",
     "start_time": "2018-08-22T16:46:21.988906Z"
    }
   },
   "outputs": [],
   "source": [
    "# import statement for numpy\n",
    "import numpy as np"
   ]
  },
  {
   "cell_type": "markdown",
   "metadata": {},
   "source": [
    "# Creation of np array"
   ]
  },
  {
   "cell_type": "code",
   "execution_count": 2,
   "metadata": {
    "ExecuteTime": {
     "end_time": "2018-08-22T16:46:22.315150Z",
     "start_time": "2018-08-22T16:46:22.300751Z"
    }
   },
   "outputs": [
    {
     "name": "stdout",
     "output_type": "stream",
     "text": [
      "[[1]\n",
      " [2]\n",
      " [3]]\n",
      "int64\n",
      "[[1.]\n",
      " [2.]\n",
      " [3.]]\n",
      "(3, 1)\n"
     ]
    }
   ],
   "source": [
    "#static creation of np array from list\n",
    "list_a = [[1],[2],[3]]\n",
    "a = np.array(list_a)\n",
    "print (a)\n",
    "print (a.dtype)\n",
    "print (a.astype(np.float64))\n",
    "print (a.shape)"
   ]
  },
  {
   "cell_type": "code",
   "execution_count": 3,
   "metadata": {
    "ExecuteTime": {
     "end_time": "2018-08-22T16:46:22.364105Z",
     "start_time": "2018-08-22T16:46:22.322600Z"
    }
   },
   "outputs": [
    {
     "data": {
      "text/plain": [
       "array([[1],\n",
       "       [2],\n",
       "       [3]])"
      ]
     },
     "execution_count": 3,
     "metadata": {},
     "output_type": "execute_result"
    }
   ],
   "source": [
    "#Saving the array as a np object\n",
    "np.save('arrayA.npy',a)\n",
    "#loading the array \n",
    "loadedA = np.load('arrayA.npy')\n",
    "loadedA"
   ]
  },
  {
   "cell_type": "code",
   "execution_count": 4,
   "metadata": {
    "ExecuteTime": {
     "end_time": "2018-08-22T16:46:22.386679Z",
     "start_time": "2018-08-22T16:46:22.368891Z"
    }
   },
   "outputs": [
    {
     "name": "stdout",
     "output_type": "stream",
     "text": [
      "[[1 0 0]\n",
      " [0 1 0]\n",
      " [0 0 1]]\n",
      "<type 'numpy.ndarray'>\n",
      "(3, 3)\n"
     ]
    }
   ],
   "source": [
    "# 2d arrays\n",
    "list_b = [[1,0,0],\n",
    "     [0,1,0],\n",
    "     [0,0,1]]\n",
    "b = np.array(list_b)\n",
    "print (b)\n",
    "print (type(b))\n",
    "print (b.shape)"
   ]
  },
  {
   "cell_type": "code",
   "execution_count": 5,
   "metadata": {
    "ExecuteTime": {
     "end_time": "2018-08-22T16:46:22.407273Z",
     "start_time": "2018-08-22T16:46:22.393402Z"
    }
   },
   "outputs": [
    {
     "name": "stdout",
     "output_type": "stream",
     "text": [
      "[[0. 0. 0.]\n",
      " [0. 0. 0.]]\n",
      "[[1. 1. 1. 1.]\n",
      " [1. 1. 1. 1.]\n",
      " [1. 1. 1. 1.]]\n"
     ]
    }
   ],
   "source": [
    "#To create 0's and 1's array\n",
    "zeroArray = np.zeros((2,3))\n",
    "oneArray = np.ones((3,4))\n",
    "print (zeroArray)\n",
    "print (oneArray)"
   ]
  },
  {
   "cell_type": "code",
   "execution_count": 6,
   "metadata": {
    "ExecuteTime": {
     "end_time": "2018-08-22T16:46:22.431874Z",
     "start_time": "2018-08-22T16:46:22.412594Z"
    }
   },
   "outputs": [
    {
     "name": "stdout",
     "output_type": "stream",
     "text": [
      "[[4 6 3]\n",
      " [8 5 1]\n",
      " [4 2 1]]\n",
      "[[0.95278851 0.35628495 0.97239551]\n",
      " [0.6761344  0.4573056  0.70934387]\n",
      " [0.89858604 0.01403811 0.31495416]\n",
      " [0.67106876 0.50156959 0.76877632]\n",
      " [0.20474398 0.23414926 0.85967869]\n",
      " [0.53039706 0.31683287 0.4351485 ]\n",
      " [0.67044106 0.49544652 0.99324072]\n",
      " [0.28909138 0.99700248 0.15912253]]\n",
      "[[0.43296482 0.2321129  0.0936585  0.17977703]\n",
      " [0.96125375 0.68158213 0.68476518 0.72865113]\n",
      " [0.97281387 0.98780085 0.29543261 0.4017331 ]]\n"
     ]
    }
   ],
   "source": [
    "# generating Random numbers\n",
    "c = np.random.randint(low=1,high=10,size=(3,3))\n",
    "d = np.random.rand(8,3)\n",
    "e = np.random.random_sample((3,4))\n",
    "print (c)\n",
    "print (d)\n",
    "print (e)"
   ]
  },
  {
   "cell_type": "code",
   "execution_count": 7,
   "metadata": {
    "ExecuteTime": {
     "end_time": "2018-08-22T16:46:22.452865Z",
     "start_time": "2018-08-22T16:46:22.436530Z"
    }
   },
   "outputs": [
    {
     "name": "stdout",
     "output_type": "stream",
     "text": [
      "[[ 8 14  7]\n",
      " [14 10  3]\n",
      " [ 7  3  2]]\n",
      "[[ 0  2  1]\n",
      " [-2  0  1]\n",
      " [-1 -1  0]]\n"
     ]
    }
   ],
   "source": [
    "#basic math operations\n",
    "#Add\n",
    "print (np.add(c,c.T))\n",
    "\n",
    "#Subtract\n",
    "print (c.T - c)"
   ]
  },
  {
   "cell_type": "code",
   "execution_count": 8,
   "metadata": {
    "ExecuteTime": {
     "end_time": "2018-08-22T16:46:22.472899Z",
     "start_time": "2018-08-22T16:46:22.460659Z"
    }
   },
   "outputs": [
    {
     "name": "stdout",
     "output_type": "stream",
     "text": [
      "[[4 6 3]\n",
      " [8 5 1]\n",
      " [4 2 1]]\n",
      "[[1 0 0]\n",
      " [0 2 0]\n",
      " [0 0 3]]\n"
     ]
    }
   ],
   "source": [
    "#dot product\n",
    "print (np.dot(b,c))\n",
    "\n",
    "# element wise multiplication\n",
    "print (a*b)"
   ]
  },
  {
   "cell_type": "code",
   "execution_count": 9,
   "metadata": {
    "ExecuteTime": {
     "end_time": "2018-08-22T16:46:22.484592Z",
     "start_time": "2018-08-22T16:46:22.477388Z"
    }
   },
   "outputs": [
    {
     "name": "stdout",
     "output_type": "stream",
     "text": [
      "[[4 6 3]\n",
      " [4 2 0]\n",
      " [1 0 0]]\n"
     ]
    }
   ],
   "source": [
    "#div\n",
    "print (c/a)"
   ]
  },
  {
   "cell_type": "code",
   "execution_count": 10,
   "metadata": {
    "ExecuteTime": {
     "end_time": "2018-08-22T16:46:22.509400Z",
     "start_time": "2018-08-22T16:46:22.494106Z"
    }
   },
   "outputs": [
    {
     "name": "stdout",
     "output_type": "stream",
     "text": [
      "[[1.38629436 1.79175947 1.09861229]\n",
      " [2.07944154 1.60943791 0.        ]\n",
      " [1.38629436 0.69314718 0.        ]]\n",
      "[[ 2.71828183]\n",
      " [ 7.3890561 ]\n",
      " [20.08553692]]\n"
     ]
    }
   ],
   "source": [
    "#Higher math operations\n",
    "#logarithm\n",
    "print (np.log(c))\n",
    "\n",
    "#exp : e^(input), e is the natural logarithm's base\n",
    "print (np.exp(a))"
   ]
  },
  {
   "cell_type": "code",
   "execution_count": 11,
   "metadata": {
    "ExecuteTime": {
     "end_time": "2018-08-22T16:46:22.520693Z",
     "start_time": "2018-08-22T16:46:22.513828Z"
    }
   },
   "outputs": [],
   "source": [
    "#check out trignometric operations as well"
   ]
  },
  {
   "cell_type": "markdown",
   "metadata": {},
   "source": [
    "# comparison Operator"
   ]
  },
  {
   "cell_type": "code",
   "execution_count": 12,
   "metadata": {
    "ExecuteTime": {
     "end_time": "2018-08-22T16:46:22.536119Z",
     "start_time": "2018-08-22T16:46:22.525632Z"
    }
   },
   "outputs": [
    {
     "name": "stdout",
     "output_type": "stream",
     "text": [
      "[[4 6 3]\n",
      " [8 5 1]\n",
      " [4 2 1]]\n",
      "[[ True False False]\n",
      " [False  True False]\n",
      " [False False  True]]\n"
     ]
    }
   ],
   "source": [
    "print (c)\n",
    "# .T will return the transpose\n",
    "# the equality check\n",
    "print (c == c.T)"
   ]
  },
  {
   "cell_type": "code",
   "execution_count": 13,
   "metadata": {
    "ExecuteTime": {
     "end_time": "2018-08-22T16:46:22.560056Z",
     "start_time": "2018-08-22T16:46:22.540666Z"
    }
   },
   "outputs": [
    {
     "data": {
      "text/plain": [
       "array([[ True, False,  True],\n",
       "       [False, False,  True],\n",
       "       [ True,  True,  True]])"
      ]
     },
     "execution_count": 13,
     "metadata": {},
     "output_type": "execute_result"
    }
   ],
   "source": [
    "# Inequality check\n",
    "c <= 4 "
   ]
  },
  {
   "cell_type": "code",
   "execution_count": 14,
   "metadata": {
    "ExecuteTime": {
     "end_time": "2018-08-22T16:46:22.578355Z",
     "start_time": "2018-08-22T16:46:22.567123Z"
    }
   },
   "outputs": [
    {
     "data": {
      "text/plain": [
       "array([4, 3, 1, 4, 2, 1])"
      ]
     },
     "execution_count": 14,
     "metadata": {},
     "output_type": "execute_result"
    }
   ],
   "source": [
    "#indexing\n",
    "c[c<=4]"
   ]
  },
  {
   "cell_type": "markdown",
   "metadata": {},
   "source": [
    "# slicing & subsetting"
   ]
  },
  {
   "cell_type": "code",
   "execution_count": 15,
   "metadata": {
    "ExecuteTime": {
     "end_time": "2018-08-22T16:46:22.592773Z",
     "start_time": "2018-08-22T16:46:22.582997Z"
    }
   },
   "outputs": [
    {
     "name": "stdout",
     "output_type": "stream",
     "text": [
      "[6 5 2]\n",
      "[[4 6 3]\n",
      " [8 5 1]]\n"
     ]
    }
   ],
   "source": [
    "\n",
    "#print all rows in the first column\n",
    "print (c[:,1])\n",
    "#print all the rows but the last one\n",
    "print (c[:-1,:])"
   ]
  },
  {
   "cell_type": "code",
   "execution_count": 16,
   "metadata": {
    "ExecuteTime": {
     "end_time": "2018-08-22T16:46:22.615874Z",
     "start_time": "2018-08-22T16:46:22.598448Z"
    }
   },
   "outputs": [
    {
     "data": {
      "text/plain": [
       "array([[3],\n",
       "       [2],\n",
       "       [1]])"
      ]
     },
     "execution_count": 16,
     "metadata": {},
     "output_type": "execute_result"
    }
   ],
   "source": [
    "#reversing the order\n",
    "a[::-1]"
   ]
  },
  {
   "cell_type": "code",
   "execution_count": 17,
   "metadata": {
    "ExecuteTime": {
     "end_time": "2018-08-22T16:46:22.634879Z",
     "start_time": "2018-08-22T16:46:22.622411Z"
    }
   },
   "outputs": [
    {
     "data": {
      "text/plain": [
       "array([0., 1., 2., 3., 4., 5., 6., 7., 8.])"
      ]
     },
     "execution_count": 17,
     "metadata": {},
     "output_type": "execute_result"
    }
   ],
   "source": [
    "#generate evenly spaced numbers over a specified interval.\n",
    "f = np.linspace(start=0,stop=8,num=9)\n",
    "f"
   ]
  },
  {
   "cell_type": "code",
   "execution_count": 18,
   "metadata": {
    "ExecuteTime": {
     "end_time": "2018-08-22T16:46:22.651141Z",
     "start_time": "2018-08-22T16:46:22.639958Z"
    }
   },
   "outputs": [
    {
     "name": "stdout",
     "output_type": "stream",
     "text": [
      "[[0. 1. 2.]\n",
      " [3. 4. 5.]\n",
      " [6. 7. 8.]]\n"
     ]
    }
   ],
   "source": [
    "f = np.array([[0., 1., 2.],\n",
    "       [3., 4., 5.],\n",
    "       [6., 7., 8.]])\n",
    "\n",
    "print (f)"
   ]
  },
  {
   "cell_type": "code",
   "execution_count": 19,
   "metadata": {
    "ExecuteTime": {
     "end_time": "2018-08-22T16:46:22.671795Z",
     "start_time": "2018-08-22T16:46:22.656610Z"
    }
   },
   "outputs": [
    {
     "data": {
      "text/plain": [
       "array([[6., 7., 8.],\n",
       "       [3., 4., 5.],\n",
       "       [0., 1., 2.]])"
      ]
     },
     "execution_count": 19,
     "metadata": {},
     "output_type": "execute_result"
    }
   ],
   "source": [
    "#reversing all rows and columns\n",
    "f[::-1]"
   ]
  },
  {
   "cell_type": "code",
   "execution_count": 20,
   "metadata": {
    "ExecuteTime": {
     "end_time": "2018-08-22T16:46:22.690679Z",
     "start_time": "2018-08-22T16:46:22.676955Z"
    }
   },
   "outputs": [
    {
     "name": "stdout",
     "output_type": "stream",
     "text": [
      "[1. 5. 6.]\n",
      "[[0. 1. 2.]\n",
      " [3. 4. 5.]\n",
      " [6. 7. 8.]]\n",
      "(1.0, 5.0, 6.0)\n"
     ]
    }
   ],
   "source": [
    "#fancy indexing\n",
    "print (f[[0,1,2],[1,2,0]])\n",
    "\n",
    "#why?\n",
    "print (f[[0,1,2]])\n",
    "print (f[0,1],f[1,2],f[2,0])"
   ]
  },
  {
   "cell_type": "markdown",
   "metadata": {},
   "source": [
    "# Reshaping array"
   ]
  },
  {
   "cell_type": "code",
   "execution_count": 21,
   "metadata": {
    "ExecuteTime": {
     "end_time": "2018-08-22T16:46:22.713797Z",
     "start_time": "2018-08-22T16:46:22.697428Z"
    }
   },
   "outputs": [
    {
     "name": "stdout",
     "output_type": "stream",
     "text": [
      "[[0.95278851 0.35628495 0.97239551 0.6761344 ]\n",
      " [0.4573056  0.70934387 0.89858604 0.01403811]\n",
      " [0.31495416 0.67106876 0.50156959 0.76877632]\n",
      " [0.20474398 0.23414926 0.85967869 0.53039706]\n",
      " [0.31683287 0.4351485  0.67044106 0.49544652]\n",
      " [0.99324072 0.28909138 0.99700248 0.15912253]]\n",
      "[[0.95278851 0.35628495 0.97239551 0.6761344 ]\n",
      " [0.4573056  0.70934387 0.89858604 0.01403811]\n",
      " [0.31495416 0.67106876 0.50156959 0.76877632]\n",
      " [0.20474398 0.23414926 0.85967869 0.53039706]\n",
      " [0.31683287 0.4351485  0.67044106 0.49544652]\n",
      " [0.99324072 0.28909138 0.99700248 0.15912253]]\n",
      "[[ True  True  True  True]\n",
      " [ True  True  True  True]\n",
      " [ True  True  True  True]\n",
      " [ True  True  True  True]\n",
      " [ True  True  True  True]\n",
      " [ True  True  True  True]]\n"
     ]
    }
   ],
   "source": [
    "#reshaping arrays into required shape\n",
    "d_1 = np.reshape(d,newshape=(6,4))\n",
    "# in order to reshape the 8x3 into 6x4, size can also be mentioned as 6,-1; \n",
    "# the compiler auto computes the remaining factor in place of -1\n",
    "d_2 = d.reshape((6,-1))\n",
    "print (d_1)\n",
    "print (d_2)\n",
    "print (d_1 == d_2)"
   ]
  },
  {
   "cell_type": "code",
   "execution_count": 22,
   "metadata": {
    "ExecuteTime": {
     "end_time": "2018-08-22T16:46:22.727932Z",
     "start_time": "2018-08-22T16:46:22.717900Z"
    }
   },
   "outputs": [],
   "source": [
    "# Task : try to reshape the array into a 3d array of dimension 2x3x4"
   ]
  },
  {
   "cell_type": "markdown",
   "metadata": {},
   "source": [
    "# Deletion of elements"
   ]
  },
  {
   "cell_type": "code",
   "execution_count": 23,
   "metadata": {
    "ExecuteTime": {
     "end_time": "2018-08-22T16:46:22.746665Z",
     "start_time": "2018-08-22T16:46:22.732961Z"
    }
   },
   "outputs": [
    {
     "name": "stdout",
     "output_type": "stream",
     "text": [
      "(8, 2)\n",
      "(7, 3)\n"
     ]
    }
   ],
   "source": [
    "# deletion of rows/cols\n",
    "d_colDelete = np.delete(d,1,axis = 1)\n",
    "d_rowDelete = np.delete(d,2,axis = 0)\n",
    "print (d_colDelete.shape)\n",
    "print (d_rowDelete.shape)"
   ]
  },
  {
   "cell_type": "code",
   "execution_count": 24,
   "metadata": {
    "ExecuteTime": {
     "end_time": "2018-08-22T16:46:22.758014Z",
     "start_time": "2018-08-22T16:46:22.751999Z"
    }
   },
   "outputs": [],
   "source": [
    "# Learn the concepts of axis properly. Look up stackoverflow or any python documentation"
   ]
  },
  {
   "cell_type": "code",
   "execution_count": 25,
   "metadata": {
    "ExecuteTime": {
     "end_time": "2018-08-22T16:46:22.769136Z",
     "start_time": "2018-08-22T16:46:22.763240Z"
    }
   },
   "outputs": [],
   "source": [
    "# delete a particular element of array c\n",
    "# also try out inserting an element and appending an element "
   ]
  },
  {
   "cell_type": "markdown",
   "metadata": {},
   "source": [
    "# Merging Rows / Columns"
   ]
  },
  {
   "cell_type": "code",
   "execution_count": 26,
   "metadata": {
    "ExecuteTime": {
     "end_time": "2018-08-22T16:46:22.783849Z",
     "start_time": "2018-08-22T16:46:22.774409Z"
    }
   },
   "outputs": [],
   "source": [
    "# mergeing rows/cols\n",
    "mergeRows = np.vstack((c,d))\n",
    "mergeCols = np.hstack((c,e))"
   ]
  },
  {
   "cell_type": "code",
   "execution_count": 27,
   "metadata": {
    "ExecuteTime": {
     "end_time": "2018-08-22T16:46:22.798789Z",
     "start_time": "2018-08-22T16:46:22.789466Z"
    }
   },
   "outputs": [
    {
     "name": "stdout",
     "output_type": "stream",
     "text": [
      "[[4.         6.         3.        ]\n",
      " [8.         5.         1.        ]\n",
      " [4.         2.         1.        ]\n",
      " [0.95278851 0.35628495 0.97239551]\n",
      " [0.6761344  0.4573056  0.70934387]\n",
      " [0.89858604 0.01403811 0.31495416]\n",
      " [0.67106876 0.50156959 0.76877632]\n",
      " [0.20474398 0.23414926 0.85967869]\n",
      " [0.53039706 0.31683287 0.4351485 ]\n",
      " [0.67044106 0.49544652 0.99324072]\n",
      " [0.28909138 0.99700248 0.15912253]]\n"
     ]
    }
   ],
   "source": [
    "print (mergeRows)"
   ]
  },
  {
   "cell_type": "code",
   "execution_count": 28,
   "metadata": {
    "ExecuteTime": {
     "end_time": "2018-08-22T16:46:22.811263Z",
     "start_time": "2018-08-22T16:46:22.803183Z"
    }
   },
   "outputs": [
    {
     "name": "stdout",
     "output_type": "stream",
     "text": [
      "[[4.         6.         3.         0.43296482 0.2321129  0.0936585\n",
      "  0.17977703]\n",
      " [8.         5.         1.         0.96125375 0.68158213 0.68476518\n",
      "  0.72865113]\n",
      " [4.         2.         1.         0.97281387 0.98780085 0.29543261\n",
      "  0.4017331 ]]\n"
     ]
    }
   ],
   "source": [
    "print (mergeCols)"
   ]
  },
  {
   "cell_type": "code",
   "execution_count": 29,
   "metadata": {
    "ExecuteTime": {
     "end_time": "2018-08-22T16:46:22.819384Z",
     "start_time": "2018-08-22T16:46:22.814707Z"
    }
   },
   "outputs": [],
   "source": [
    "# Task: look up np.concatenate and do the above performed operations using it "
   ]
  },
  {
   "cell_type": "markdown",
   "metadata": {},
   "source": [
    "# Few tasks on np using aggregate functions"
   ]
  },
  {
   "cell_type": "code",
   "execution_count": 30,
   "metadata": {
    "ExecuteTime": {
     "end_time": "2018-08-22T16:46:22.842832Z",
     "start_time": "2018-08-22T16:46:22.822466Z"
    }
   },
   "outputs": [
    {
     "name": "stdout",
     "output_type": "stream",
     "text": [
      "[[4 6 3]\n",
      " [8 5 1]\n",
      " [4 2 1]]\n",
      "Row Min: [3 1 1]\n",
      "---------------------\n",
      "[[0.95278851 0.35628495 0.97239551]\n",
      " [0.6761344  0.4573056  0.70934387]\n",
      " [0.89858604 0.01403811 0.31495416]\n",
      " [0.67106876 0.50156959 0.76877632]\n",
      " [0.20474398 0.23414926 0.85967869]\n",
      " [0.53039706 0.31683287 0.4351485 ]\n",
      " [0.67044106 0.49544652 0.99324072]\n",
      " [0.28909138 0.99700248 0.15912253]]\n",
      "Col Avg: [0.6116564  0.42157867 0.65158254]\n"
     ]
    }
   ],
   "source": [
    "minRowC = np.min(c,axis=1)\n",
    "avgColD = np.mean(d,axis=0)\n",
    "print (c)\n",
    "print 'Row Min:',minRowC\n",
    "print ('---------------------')\n",
    "print (d)\n",
    "print 'Col Avg:',avgColD"
   ]
  },
  {
   "cell_type": "code",
   "execution_count": 31,
   "metadata": {
    "ExecuteTime": {
     "end_time": "2018-08-22T16:46:22.852326Z",
     "start_time": "2018-08-22T16:46:22.847329Z"
    }
   },
   "outputs": [],
   "source": [
    "# find the row wise mean of array e\n",
    "# find the max of all the values in the array c\n",
    "# median of array f\n",
    "# cumulative sum of a"
   ]
  },
  {
   "cell_type": "code",
   "execution_count": 32,
   "metadata": {
    "ExecuteTime": {
     "end_time": "2018-08-22T16:46:22.867555Z",
     "start_time": "2018-08-22T16:46:22.858148Z"
    }
   },
   "outputs": [
    {
     "data": {
      "text/plain": [
       "array([[4, 2, 1],\n",
       "       [4, 5, 1],\n",
       "       [8, 6, 3]])"
      ]
     },
     "execution_count": 32,
     "metadata": {},
     "output_type": "execute_result"
    }
   ],
   "source": [
    "# sort each column\n",
    "np.sort(c,axis=0)"
   ]
  }
 ],
 "metadata": {
  "anaconda-cloud": {},
  "kernelspec": {
   "display_name": "Python [default]",
   "language": "python",
   "name": "python2"
  },
  "language_info": {
   "codemirror_mode": {
    "name": "ipython",
    "version": 2
   },
   "file_extension": ".py",
   "mimetype": "text/x-python",
   "name": "python",
   "nbconvert_exporter": "python",
   "pygments_lexer": "ipython2",
   "version": "2.7.12"
  }
 },
 "nbformat": 4,
 "nbformat_minor": 2
}
