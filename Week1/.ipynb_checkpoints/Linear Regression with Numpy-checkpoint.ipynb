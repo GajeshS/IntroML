{
 "cells": [
  {
   "cell_type": "markdown",
   "metadata": {},
   "source": [
    "# Linear Regression with `numpy`\n",
    "- [Why numpy over python](https://stackoverflow.com/questions/993984/why-numpy-instead-of-python-lists) ?"
   ]
  },
  {
   "cell_type": "markdown",
   "metadata": {},
   "source": [
    "# Introduction\n",
    "\n",
    "Linear regression is a method used to find a relationship between a dependent variable and a set of independent variables. In its simplest form it consist of fitting a function y=w.x+b to observed data, where y is the dependent variable, x the independent, w the weight matrix and b the bias.\n",
    "\n",
    "The following are some important terms to keep in mind.\n",
    "\n",
    "\n",
    "\n"
   ]
  },
  {
   "cell_type": "code",
   "execution_count": 2,
   "metadata": {},
   "outputs": [],
   "source": [
    "# Importing Libraries\n",
    "import numpy as np\n",
    "import matplotlib.pyplot as plt\n",
    "%matplotlib inline"
   ]
  },
  {
   "cell_type": "markdown",
   "metadata": {},
   "source": [
    "## Loading the dataset\n",
    "\n",
    "Before we can start working on our actual algorithms and models, we have to import our data in the correct format."
   ]
  },
  {
   "cell_type": "code",
   "execution_count": 3,
   "metadata": {},
   "outputs": [],
   "source": [
    "# Creating 100 samples of input (X) ranging from 1.0 to 10.0\n",
    "# Size of each sample : 1*1\n",
    "data_x = np.linspace(1.0, 10.0, 100)[:, np.newaxis]\n",
    "\n",
    "# Creating 100 samples of output (X), each of size 1*1\n",
    "data_y = np.sin(data_x) + 0.1*np.power(data_x,2) + 0.5*np.random.randn(100,1)\n",
    "data_x /= np.max(data_x)"
   ]
  },
  {
   "cell_type": "markdown",
   "metadata": {},
   "source": [
    "## Sanity Checks\n",
    "\n",
    "So now that we've imported our data we can quickly check if the data has in fact been **loaded correctly.** \n",
    "A *simple* way to do that would be to print the shape of the data we've imported. \n",
    "\n",
    "So these simple checks to ensure that bigger errors don't pop up later are called *sanity checks*"
   ]
  },
  {
   "cell_type": "code",
   "execution_count": 4,
   "metadata": {},
   "outputs": [
    {
     "name": "stdout",
     "output_type": "stream",
     "text": [
      "Output shape (100, 1)\n",
      "X's shape before adding bias: (100, 1)\n",
      "X's shape after adding bias: (100, 2)\n"
     ]
    }
   ],
   "source": [
    "print (\"Output shape\",data_y.shape)\n",
    "print (\"X's shape before adding bias:\",data_x.shape)\n",
    "\n",
    "# Adding bias to x\n",
    "data_x = np.hstack((np.ones_like(data_x), data_x))\n",
    "print (\"X's shape after adding bias:\",data_x.shape)"
   ]
  },
  {
   "cell_type": "markdown",
   "metadata": {},
   "source": [
    "## Training Data and Testing Data\n",
    "\n",
    "When training an ML Model a best-practice is to split your available data into three sets. One for Training, one for Validation and another for Testing.\n",
    "\n",
    "**Why?**\n",
    "\n",
    "If a model trains on a set of data and learns it's patterns well enough then it will obviously perform well on the same set of data. Usually, the test set may not be known to the user. In order to evaluate the model, the validation set is used.\n",
    "\n",
    "We should keep the sets mutually exclusive "
   ]
  },
  {
   "cell_type": "code",
   "execution_count": 5,
   "metadata": {},
   "outputs": [
    {
     "name": "stdout",
     "output_type": "stream",
     "text": [
      "Training dataset shape\n",
      "(80, 2)\n",
      "(80, 1)\n",
      "Test dataset shape\n",
      "(20, 2)\n",
      "(20, 1)\n"
     ]
    }
   ],
   "source": [
    "# Shuffling data\n",
    "order = np.random.permutation(len(data_x))\n",
    "portion = 20\n",
    "\n",
    "# Splitting data into train and test \n",
    "# samples 0-19  : Test set\n",
    "# samples 20-99 : Train set\n",
    "test_x = data_x[order[:portion]]\n",
    "test_y = data_y[order[:portion]]\n",
    "train_x = data_x[order[portion:]]\n",
    "train_y = data_y[order[portion:]]\n",
    "\n",
    "print (\"Training dataset shape\")\n",
    "print (train_x.shape)\n",
    "print (train_y.shape)\n",
    "\n",
    "print (\"Test dataset shape\")\n",
    "print (test_x.shape)\n",
    "print (test_y.shape)\n"
   ]
  },
  {
   "cell_type": "markdown",
   "metadata": {},
   "source": [
    "# Loss Function\n",
    "A loss function is a way to map the performance of our model into a real number. \n",
    "It measures how well the model is performing its task, be it a linear regression model fitting the data to a line, \n",
    "a neural network correctly classifying an image of a character, etc. \n",
    "The loss function is particularly important in learning since it is what guides the update of the parameters so \n",
    "that the model can perform better.\n",
    "\n",
    "We use the Euclidean distance between predicted values and ground truth values as the error function.\n",
    "L1-norm loss function is also known as least absolute deviations (LAD), least absolute errors (LAE). It is basically minimizing the sum of the absolute differences (S) between the target value (Yi) and the estimated values (f(xi)):\n",
    "\n",
    "The predicted value for given sample shall be (`y_estimate`):\n",
    "\\begin{align*}\n",
    " h(x_i) = (w^Tx_i) + b\n",
    "\\label{eq:model_los}\n",
    "\\end{align*}\n",
    "\n",
    "Error between predicted output and actual output:\n",
    "\\begin{align*}\n",
    "  & L(y,h(x)) = \\sum_{i=0}^n \\big|y_i - h(x_i)\\big|^2\n",
    "\\end{align*}\n",
    "<br/>\n",
    "This can be written as (`error`):\n",
    "\\begin{gather}\n",
    " L(y,x,w) = \\dfrac{1}{n} \\sum_{i=1}^{n} \\big|\\hat{y}_i- (w^Tx_i + b)\\big|^2\n",
    "\\label{eq:model_loss}\n",
    "\\end{gather}\n",
    "<br/>\n",
    "On differentiating with respect to weight (`weight_gradient`)\n",
    "\n",
    "\\begin{gather}\n",
    "\\label{eq:dl_dw}\n",
    "\\dfrac{\\partial\\mathcal{L}(y,x,w)}{\\partial w} = -\\dfrac{1}{M} \\sum_{i=1}^{M} 2x_i\\big(\\hat{y}_i - (w^Tx_i+b)\\big)\n",
    "\\end{gather}\n",
    "<br/>\n",
    "On differentiating with respect to bias (`bias_gradient`)\n",
    "\\begin{gather}\n",
    "\\label{eq:dl_db}\n",
    "\\dfrac{\\partial\\mathcal{L}(y,x,w)}{\\partial b} = -\\dfrac{1}{M} \\sum_{i=1}^{M} 2\\big(\\hat{y}_i - (w^Tx_i+b)\\big)\n",
    "\\end{gather}\n",
    "\n",
    "Where, M = No. of training examples."
   ]
  },
  {
   "cell_type": "code",
   "execution_count": 6,
   "metadata": {},
   "outputs": [],
   "source": [
    "def get_gradient(w, b, x, y):\n",
    "    y_estimate = x.dot(w).flatten() + b\n",
    "    \n",
    "    # Error = expected_value - predicted_value    \n",
    "    error_sqrt = (y.flatten() - y_estimate)\n",
    "    error = error_sqrt**2\n",
    "    \n",
    "    # Note : Since error_sqrt and x are vectors, \n",
    "    # we can multiply the transpose of weight and X as matricess\n",
    "    # This is equivalent to multiplying elements and summing them up\n",
    "    weight_gradient = -(2.0/len(x)) * error_sqrt.dot(x)\n",
    "    bias_gradient = -(2.0/len(x)) * np.sum(error_sqrt)\n",
    "    \n",
    "    return weight_gradient,bias_gradient, error"
   ]
  },
  {
   "cell_type": "markdown",
   "metadata": {},
   "source": [
    "## Training and Convergence\n",
    "\n",
    "All Machine Learning or Deep Learning models require training. Training is the phase in which your model/algorithm attempts to *learn* and *understand* the data that you've provided.\n",
    "\n",
    "The **learning rate** is the rate at which your algorithm learns the data. We'll get into detail about this later but for now we can just say that the learning rate should neither be too high, or too small for good training.\n",
    "\n",
    "**Convergence** occurs when you've *finished* training your data. Technically there's no way to define when training is done but in essence we define convergence to have occured when your weights don't change by some threshold value between two successive training iterations.\n",
    "\n",
    "In statistics **hyperparameters** are parameters of a prior distribution. In our case it relates to the parameters of our model (the number of layers in a neural network, the number of neurons in each layer, the learning rate, regularization, etc.). The concept will become clear as we discuss some models.\n",
    "\n",
    "## Gradient Descent\n",
    "One of the methods we can use to minimize the error is Gradient Descent, which is based on using gradients to update the model parameters (w in our case) until a minimum is found and the gradient becomes zero. Convergence to the global minimum is guaranteed (with some reservations) for convex functions since that’s the only point where the gradient is zero. \n",
    "\n",
    "\\begin{gather}\n",
    "\\label{eq:dl_dw}\n",
    "\\dfrac{\\partial L(y,x,w)}{\\partial w} = -\\dfrac{1}{n} \\sum_{i=1}^{n} x_i\\\\\n",
    "\\end{gather}\n",
    "\n",
    "\\begin{gather}\n",
    "w = w - \\alpha \\dfrac{\\partial L(y,x,w)}{\\partial w}\\\\\n",
    "\\end{gather}\n",
    "\n",
    "Here, alpha is the learning rate.\n",
    "\n",
    "The algorithm works by evaluating the gradients and updating the parameters at each iteration until the gradient becomes zero."
   ]
  },
  {
   "cell_type": "code",
   "execution_count": 7,
   "metadata": {},
   "outputs": [
    {
     "name": "stdout",
     "output_type": "stream",
     "text": [
      "Iteration: 50 - Error: 446.00264588680056\n",
      "Iteration: 100 - Error: 298.1696074319267\n",
      "Iteration: 150 - Error: 215.857138751679\n",
      "Iteration: 200 - Error: 170.02609468169265\n",
      "Iteration: 250 - Error: 144.50766917188827\n",
      "Iteration: 300 - Error: 130.29917679050027\n",
      "Iteration: 350 - Error: 122.38798118501964\n",
      "Iteration: 400 - Error: 117.98307922721864\n",
      "Iteration: 450 - Error: 115.53045863414442\n",
      "Iteration: 500 - Error: 114.16485553305422\n",
      "Iteration: 550 - Error: 113.40449666019256\n",
      "Iteration: 600 - Error: 112.98113381407865\n",
      "Iteration: 650 - Error: 112.74540815101767\n",
      "Iteration: 700 - Error: 112.61415764395119\n",
      "Iteration: 750 - Error: 112.54107822026216\n",
      "Iteration: 800 - Error: 112.5003880752404\n",
      "Iteration: 850 - Error: 112.47773206868871\n",
      "Iteration: 900 - Error: 112.46511735245709\n",
      "Iteration: 950 - Error: 112.45809356098533\n",
      "Iteration: 1000 - Error: 112.45418275984369\n",
      "Iteration: 1050 - Error: 112.45200525135266\n",
      "Iteration: 1100 - Error: 112.45079282887022\n",
      "Iteration: 1150 - Error: 112.45011775996369\n",
      "Iteration: 1200 - Error: 112.44974188601286\n",
      "Iteration: 1250 - Error: 112.449532601856\n",
      "Iteration: 1300 - Error: 112.44941607380663\n",
      "Iteration: 1350 - Error: 112.44935119175103\n",
      "Iteration: 1400 - Error: 112.449315065847\n",
      "Iteration: 1450 - Error: 112.44929495117992\n",
      "Iteration: 1500 - Error: 112.44928375146489\n",
      "Converged.\n"
     ]
    }
   ],
   "source": [
    "# Initialising a random vector of weights\n",
    "w = np.random.randn(2)\n",
    "b = np.random.randn(1)\n",
    "\n",
    "# Learning rate\n",
    "alpha = 0.05\n",
    "\n",
    "# Threshold to terminate learning\n",
    "tolerance = 1e-5\n",
    "\n",
    "# Perform Gradient Descent\n",
    "iterations = 1\n",
    "while True:\n",
    "    weight_gradient,bias_gradient, error = get_gradient(w, b, train_x, train_y)\n",
    "    new_w = w - alpha * weight_gradient\n",
    "    new_b = b - alpha * bias_gradient\n",
    "    # Stopping Condition\n",
    "    if np.sum(abs(new_w - w)) < tolerance:\n",
    "        print (\"Converged.\")\n",
    "        break\n",
    "    \n",
    "    # Print error every 50 iterations\n",
    "    if iterations % 50 == 0:\n",
    "        print (\"Iteration: \"+str(iterations)+\" - Error: \"+ str(np.sum(error)))\n",
    "    iterations += 1\n",
    "    w = new_w\n",
    "    b = new_b"
   ]
  },
  {
   "cell_type": "markdown",
   "metadata": {},
   "source": [
    "## Plotting predicted values against real values\n",
    "- Orange straight line : Predicted Output\n",
    "- Blue crooked line : Real Output"
   ]
  },
  {
   "cell_type": "code",
   "execution_count": 18,
   "metadata": {},
   "outputs": [
    {
     "data": {
      "image/png": "[encoded data removed]",
      "text/plain": [
       "<Figure size 432x288 with 1 Axes>"
      ]
     },
     "metadata": {},
     "output_type": "display_data"
    }
   ],
   "source": [
    "def predict(x):\n",
    "    x = np.vstack((np.ones_like(x), x))\n",
    "    return x.T.dot(w).flatten() + b\n",
    "\n",
    "test_x = test_x[:,1]\n",
    "# Sorting test array by X values, for easy plotting\n",
    "# We had initially shuffled our dataset\n",
    "arr1inds = test_x.argsort()\n",
    "test_x = test_x[arr1inds[::-1]]\n",
    "test_y = test_y[arr1inds[::-1]]\n",
    "\n",
    "# Plotting real output\n",
    "plt.plot(test_x,test_y)\n",
    "# Plotting predicted output \n",
    "plt.plot(test_x,predict(test_x))\n",
    "plt.show()"
   ]
  }
 ],
 "metadata": {
  "kernelspec": {
   "display_name": "Python 3",
   "language": "python",
   "name": "python3"
  },
  "language_info": {
   "codemirror_mode": {
    "name": "ipython",
    "version": 3
   },
   "file_extension": ".py",
   "mimetype": "text/x-python",
   "name": "python",
   "nbconvert_exporter": "python",
   "pygments_lexer": "ipython3",
   "version": "3.6.5"
  }
 },
 "nbformat": 4,
 "nbformat_minor": 2
}
