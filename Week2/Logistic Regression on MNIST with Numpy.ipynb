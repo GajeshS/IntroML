{
 "cells": [
  {
   "cell_type": "markdown",
   "metadata": {},
   "source": [
    "# Logistic Regression with Numpy\n",
    "\n",
    "Here we'll attempt to classify the Handwritten digits with a model that we'll build ourselves. \n",
    "**Note:** We won't be using any frameworks, we'll just use numpy and plain python.\n",
    "\n",
    "\n",
    "## MNIST Data set\n",
    " - Large database of handwritten digits that is commonly used for training various image processing systems\n",
    " - Members of the AI/ML/Data Science community love this dataset and use it as a benchmark to validate their algorithms\n",
    " - In fact, MNIST is often the first dataset researchers try. **\"If it doesn't work on MNIST, it won't work at all\"**, they said\n",
    " - Input / Feature Names (150 x 4)\n",
    "     - sepal length (cm)\n",
    "     - sepal width (cm)\n",
    "     - petal length (cm)\n",
    "     - petal width (cm)\n",
    " - Output (150 x 1)\n",
    "    - Iris species label\n",
    "        0. setosa\n",
    "        1. versicolor\n",
    "        2. virginica\n",
    "\n",
    "- Aim : \n",
    "    - Classifying an Iris flower into one of these species based on features\n",
    "    - ie. Assign a class to given input sample\n",
    "\n",
    "So as we can see, the dataset consists of **4 input features** and the flowers can be classified as **1 of 3 categorires** as specified above."
   ]
  },
  {
   "cell_type": "markdown",
   "metadata": {},
   "source": [
    "## Importing Dependancies\n",
    "\n",
    "So here are the essentials we'll need to perform the above classification.\n",
    "\n",
    "*Additionally we'll use matplotlib to visualize the data*"
   ]
  },
  {
   "cell_type": "code",
   "execution_count": 111,
   "metadata": {},
   "outputs": [],
   "source": [
    "from __future__ import print_function\n",
    "from sklearn.datasets import fetch_mldata\n",
    "from sklearn.preprocessing import OneHotEncoder\n",
    "import matplotlib.pyplot as plt\n",
    "import numpy as np\n",
    "import itertools\n",
    "\n",
    "%matplotlib inline"
   ]
  },
  {
   "cell_type": "markdown",
   "metadata": {},
   "source": [
    "## Loading the Dataset\n",
    "\n",
    "The dataset comes with sklearn as a standard dataset. So we'll use the datasets module within sklearn to load our data."
   ]
  },
  {
   "cell_type": "code",
   "execution_count": 6,
   "metadata": {},
   "outputs": [
    {
     "name": "stdout",
     "output_type": "stream",
     "text": [
      "--2018-08-29 18:25:43--  http://deeplearning.net/data/mnist/mnist.pkl.gz\n",
      "Resolving deeplearning.net (deeplearning.net)... 132.204.26.28\n",
      "Connecting to deeplearning.net (deeplearning.net)|132.204.26.28|:80... connected.\n",
      "HTTP request sent, awaiting response... 200 OK\n",
      "Length: 16168813 (15M) [application/x-gzip]\n",
      "Saving to: ‘mnist.pkl.gz’\n",
      "\n",
      "mnist.pkl.gz        100%[===================>]  15.42M   163KB/s    in 70s     \n",
      "\n",
      "2018-08-29 18:26:54 (226 KB/s) - ‘mnist.pkl.gz’ saved [16168813/16168813]\n",
      "\n"
     ]
    }
   ],
   "source": [
    "!wget http://deeplearning.net/data/mnist/mnist.pkl.gz"
   ]
  },
  {
   "cell_type": "code",
   "execution_count": 112,
   "metadata": {},
   "outputs": [],
   "source": [
    "import cPickle, gzip, numpy\n",
    "\n",
    "# Load the dataset\n",
    "f = gzip.open('mnist.pkl.gz', 'rb')\n",
    "train_set, valid_set, test_set = cPickle.load(f)\n",
    "f.close()"
   ]
  },
  {
   "cell_type": "code",
   "execution_count": 113,
   "metadata": {},
   "outputs": [
    {
     "name": "stdout",
     "output_type": "stream",
     "text": [
      "(50000, 784)\n",
      "(50000,)\n",
      "(10000, 784)\n",
      "(10000,)\n"
     ]
    }
   ],
   "source": [
    "X_train = train_set[0]\n",
    "X_test = test_set[0]\n",
    "\n",
    "y_train = train_set[1]\n",
    "y_test = test_set[1]\n",
    "\n",
    "print (X_train.shape)\n",
    "print (y_train.shape)\n",
    "\n",
    "print (X_test.shape)\n",
    "print (y_test.shape)\n",
    "\n",
    "order = np.random.permutation(len(X[1]))"
   ]
  },
  {
   "cell_type": "code",
   "execution_count": 114,
   "metadata": {},
   "outputs": [
    {
     "name": "stdout",
     "output_type": "stream",
     "text": [
      "NUMBER : 3\n"
     ]
    },
    {
     "data": {
      "image/png": "[encoded data removed]",
      "text/plain": [
       "<matplotlib.figure.Figure at 0x7ff215905350>"
      ]
     },
     "metadata": {},
     "output_type": "display_data"
    }
   ],
   "source": [
    "import random\n",
    "def plot_number(number,val):\n",
    "    print (\"NUMBER :\",val)\n",
    "    plt.imshow(number.reshape(28,28))\n",
    "\n",
    "ind = random.randint(1,X_train.shape[0])\n",
    "plot_number(X_train[ind],y_train[ind])"
   ]
  },
  {
   "cell_type": "markdown",
   "metadata": {},
   "source": [
    "## One-Hot Encoding\n",
    "\n",
    "One-hot or One-of-k is a method we'll use to encode our classes such that **no class has any features that will distinctly differentiate them** and **to ensure all the y-values lie between 0 and 1**.\n",
    "\n",
    "Hence this is how our data will be modified.\n",
    "\n",
    "|Original Value| One-Hot Encoded|\n",
    "|--------------|----------------|\n",
    "|0| [1, 0, 0, 0, 0, 0, 0, 0, 0, 0]|\n",
    "|1| [0, 1, 0, 0, 0, 0, 0, 0, 0, 0]|\n",
    "|9| [0, 0, 0, 0, 0, 0, 0, 0, 0, 1]|\n",
    "\n",
    "Refer [sklearn OneHotEncoder docs](http://scikit-learn.org/stable/modules/generated/sklearn.preprocessing.OneHotEncoder.html) for more information. Here since our dataset is small we'll just one-hot encode with a small Python Script."
   ]
  },
  {
   "cell_type": "code",
   "execution_count": 115,
   "metadata": {},
   "outputs": [
    {
     "name": "stdout",
     "output_type": "stream",
     "text": [
      "Before OneHot Encoding\n",
      "[5 0 4 1 9]\n",
      "After OneHot Encoding\n",
      "[[0. 0. 0. 0. 0. 1. 0. 0. 0. 0.]\n",
      " [1. 0. 0. 0. 0. 0. 0. 0. 0. 0.]\n",
      " [0. 0. 0. 0. 1. 0. 0. 0. 0. 0.]\n",
      " [0. 1. 0. 0. 0. 0. 0. 0. 0. 0.]\n",
      " [0. 0. 0. 0. 0. 0. 0. 0. 0. 1.]]\n"
     ]
    }
   ],
   "source": [
    "from sklearn.preprocessing import OneHotEncoder\n",
    "\n",
    "enc = OneHotEncoder()\n",
    "enc.fit(y_train.reshape(-1,1))\n",
    "\n",
    "# Encoding Y values\n",
    "y_train_enc = enc.transform(y_train.reshape(-1,1))\n",
    "y_test_enc = enc.transform(y_test.reshape(-1,1))\n",
    "\n",
    "print (\"Before OneHot Encoding\")\n",
    "print (y_train[:5])\n",
    "print (\"After OneHot Encoding\")\n",
    "print (y_train_enc[:5].todense())"
   ]
  },
  {
   "cell_type": "markdown",
   "metadata": {},
   "source": [
    "## Activation Function\n",
    "\n",
    "Now that we've split our training data into training and testing sets let's move on to the actual model. \n",
    "An activation function, as we've explained in class the activation function will define the output of our logit using our weighted features as input.\n",
    "\n",
    "For a list of various activation functions and their properties [click here](https://en.wikipedia.org/wiki/Activation_function#Comparison%20of%20activation%20functions).\n",
    "\n",
    "We need an activation function that:\n",
    "\n",
    "* Flattens the output between the range 0 and 1\n",
    "* Has very small range within which the output is neither close to 0 or 1.\n",
    "\n",
    "Hence we'll use the Sigmoid activation function.\n",
    "It looks like this:\n",
    "\n",
    "![image](https://cdn-images-1.medium.com/max/1200/1*Vo7UFksa_8Ne5HcfEzHNWQ.png)\n",
    "\n",
    "In the next cell we'll demonstrate how this function maps an input."
   ]
  },
  {
   "cell_type": "markdown",
   "metadata": {},
   "source": [
    "Hence to implement in python we just need to define the following function:"
   ]
  },
  {
   "cell_type": "code",
   "execution_count": 116,
   "metadata": {},
   "outputs": [],
   "source": [
    "def sigmoid(z):\n",
    "    return 1.0 / (1 + np.exp(-z))"
   ]
  },
  {
   "cell_type": "code",
   "execution_count": 117,
   "metadata": {},
   "outputs": [
    {
     "data": {
      "image/png": "[encoded data removed]",
      "text/plain": [
       "<matplotlib.figure.Figure at 0x7ff215978dd0>"
      ]
     },
     "metadata": {},
     "output_type": "display_data"
    }
   ],
   "source": [
    "sample_x = np.linspace(-20,20,100)\n",
    "plt.plot(sample_x,sigmoid(sample_x))\n",
    "plt.show()"
   ]
  },
  {
   "cell_type": "markdown",
   "metadata": {},
   "source": [
    "## Hypothesis\n",
    "The output for a given sample is derived using the following formula\n",
    "![Output](https://cdn-images-1.medium.com/max/800/1*p4hYc2VwJqoLWwl_mV0Vjw.png)\n",
    "\n",
    "Here, \n",
    "- `g` - Sigmoid Function\n",
    "- `theta` - Weight Matrix\n",
    "- `z` - Output\n",
    "- `h` - Activated Output "
   ]
  },
  {
   "cell_type": "markdown",
   "metadata": {},
   "source": [
    "## Prediction\n",
    "\n",
    "Here we'll take the current weights and the input and calculate the activation output. \n",
    "This output will be used to calculate the cost and gradients for the optimisation function."
   ]
  },
  {
   "cell_type": "code",
   "execution_count": 118,
   "metadata": {},
   "outputs": [],
   "source": [
    "def predict(x,theta):\n",
    "    z = x.dot(theta)\n",
    "    hx = sigmoid(z)\n",
    "    # print \"Shape after activation: \" + str(hx.shape)\n",
    "    return hx"
   ]
  },
  {
   "cell_type": "markdown",
   "metadata": {},
   "source": [
    "## Loss\n",
    "\n",
    "**REFER : https://www.youtube.com/watch?v=K0YBDyxEXKE**\n",
    "\n",
    "![Loss](https://cdn-images-1.medium.com/max/800/1*FdxEs8Iv_43Q8calTCjnow.png)\n",
    "\n",
    "Here the **cost** or *loss* is calculated.\n",
    "The loss is basically the error between the predicted output and the actual output for that case.\n"
   ]
  },
  {
   "cell_type": "code",
   "execution_count": 119,
   "metadata": {},
   "outputs": [],
   "source": [
    "def loss(h, y):\n",
    "    ones = np.ones(y.shape)\n",
    "    return np.sum(np.negative(y.T) * np.log(h) - (ones - y).T * (np.log(ones - h))) / y.shape[1]"
   ]
  },
  {
   "cell_type": "markdown",
   "metadata": {},
   "source": [
    "## Gradient\n",
    "![Grad formula](https://cdn-images-1.medium.com/max/800/1*gobKgGbRWDAoVFAan_HjxQ.png)\n",
    "\n",
    "Now to optimise our error ( minimise the error ) we'll use a strategy called [Gradient Descent](https://machinelearningmastery.com/gradient-descent-for-machine-learning/\n",
    ") which will help us minimise the error between the actual values and our predicted values.\n",
    "\n",
    "To do this we'll calculate the **gradient** for our current iteration of weights. The gradient can simply be understood as a small delta ( change ) we should bring about in our weights to move closer to an optimimum solution."
   ]
  },
  {
   "cell_type": "code",
   "execution_count": 120,
   "metadata": {},
   "outputs": [],
   "source": [
    "def gradient(X,h,y):\n",
    "    return (1.0 / y.shape[0]) * np.dot(X.T, (h - y))"
   ]
  },
  {
   "cell_type": "markdown",
   "metadata": {},
   "source": [
    "## Forward Propogation (Application of Activation Function)\n",
    "\n",
    "This function will implement the above functions in the described order. We're basically putting everything together.\n",
    "\n",
    "The basic algorithm is as follows:\n",
    "\n",
    "1. Predict the output\n",
    "2. Use the predicted output to calculate the cost.\n",
    "3. Find the gradient \n",
    "4. Update the weights based on the gradient\n",
    "5. Do 1 - 4 Again until convergence\n"
   ]
  },
  {
   "cell_type": "code",
   "execution_count": 121,
   "metadata": {},
   "outputs": [],
   "source": [
    "def get_gradient(theta, b, x, y):\n",
    "    # Predicting the output\n",
    "    y_estimate = predict(x,theta)\n",
    "    \n",
    "    # Use the predicted output to calculate the cost.\n",
    "    error = loss(y_estimate,y)\n",
    "    \n",
    "    # Find the gradient\n",
    "    grad = gradient(x,y_estimate,y)\n",
    "    \n",
    "    # Update the weights based on the gradient\n",
    "    error = np.squeeze(error)\n",
    "    \n",
    "    return grad,error"
   ]
  },
  {
   "cell_type": "markdown",
   "metadata": {},
   "source": [
    "## Iteratively Updating the Weights\n",
    "\n",
    "Now we've finally reached the stage where we can start putting all the above functions to use and train our model.\n",
    "\n",
    "We'll first initialize our array of weights. The shape is (4, 3) because we have 4 input features and 3 output classes.\n",
    "\n",
    "Since there's multiple classes the correct function to use here would be a [Softmax Function](https://developers.google.com/machine-learning/crash-course/multi-class-neural-networks/softmax) but we'll simply find class with maximum confidence and consider that to be the predicted output.\n",
    "\n",
    "Here the steps are simple:\n",
    "\n",
    "1. Fetch the gradient for the current iteration using get_gradient()\n",
    "2. Update the weights\n",
    "3. Check for convergence with the tolerance\n",
    "4. If converged stop and return the current weights, bias and error."
   ]
  },
  {
   "cell_type": "code",
   "execution_count": 122,
   "metadata": {},
   "outputs": [],
   "source": [
    "def learn(alpha = 0.1,batch_size=500,epochs=30): \n",
    "    # Initialising a random vector of weight\n",
    "    num_samples,data_size = X_train.shape\n",
    "    theta = np.zeros((data_size,10))\n",
    "    b = 0\n",
    "    \n",
    "    # Here the learning rate, and tolerance are passed as parameters.\n",
    "    print (\"Learning Rate: \" + str(alpha))    \n",
    "\n",
    "    # Perform Gradient Descent\n",
    "    iterations = 1\n",
    "    num_batches = num_samples/batch_size\n",
    "    for ep in range(epochs):\n",
    "        total_error = 0\n",
    "        for i in range(num_batches):\n",
    "            X_train_batch = X_train[i*batch_size:(i+1)*batch_size]\n",
    "            y_train_batch = y_train_enc[i*batch_size:(i+1)*batch_size]\n",
    "            theta_gradient, error = get_gradient(theta, b, X_train_batch, y_train_batch)\n",
    "            theta = theta - (alpha * theta_gradient)            \n",
    "            total_error+=np.sum(error)\n",
    "        \n",
    "        if ep % 1 == 0:\n",
    "            print (\"Epoch: \"+str(ep)+\" - Error: \"+ str(total_error))\n",
    "\n",
    "    return theta, b, error"
   ]
  },
  {
   "cell_type": "markdown",
   "metadata": {},
   "source": [
    "## Training\n",
    "\n",
    "That's it. Now we just have to call our training function with the necessary parameters and see our model train with the provided data."
   ]
  },
  {
   "cell_type": "code",
   "execution_count": 124,
   "metadata": {
    "scrolled": true
   },
   "outputs": [
    {
     "name": "stdout",
     "output_type": "stream",
     "text": [
      "Learning Rate: 0.1\n",
      "Epoch: 0 - Error: 216642.87500425728\n",
      "Epoch: 1 - Error: 276804.45450704946\n",
      "Epoch: 2 - Error: 310675.2735996232\n",
      "Epoch: 3 - Error: 333869.00478336285\n",
      "Epoch: 4 - Error: 351460.24243897543\n",
      "Epoch: 5 - Error: 365565.304214021\n",
      "Epoch: 6 - Error: 377284.1886340219\n",
      "Epoch: 7 - Error: 387266.7081849112\n",
      "Epoch: 8 - Error: 395930.27256537526\n",
      "Epoch: 9 - Error: 403559.3653401453\n",
      "Epoch: 10 - Error: 410356.6428497432\n",
      "Epoch: 11 - Error: 416471.52468166803\n",
      "Epoch: 12 - Error: 422017.26520120254\n",
      "Epoch: 13 - Error: 427081.6821526325\n",
      "Epoch: 14 - Error: 431734.1835796244\n",
      "Epoch: 15 - Error: 436030.5300006737\n",
      "Epoch: 16 - Error: 440016.15562785906\n",
      "Epoch: 17 - Error: 443728.5419797091\n",
      "Epoch: 18 - Error: 447198.95047398243\n",
      "Epoch: 19 - Error: 450453.71066464845\n",
      "Epoch: 20 - Error: 453515.19379804784\n",
      "Epoch: 21 - Error: 456402.55928034056\n",
      "Epoch: 22 - Error: 459132.334497579\n",
      "Epoch: 23 - Error: 461718.87049403146\n",
      "Epoch: 24 - Error: 464174.7039138298\n",
      "Epoch: 25 - Error: 466510.8472912374\n",
      "Epoch: 26 - Error: 468737.0239560519\n",
      "Epoch: 27 - Error: 470861.8596874939\n",
      "Epoch: 28 - Error: 472893.04027232865\n",
      "Epoch: 29 - Error: 474837.44194999477\n",
      "Epoch: 30 - Error: 476701.24012276606\n",
      "Epoch: 31 - Error: 478490.00051083625\n",
      "Epoch: 32 - Error: 480208.756028593\n",
      "Epoch: 33 - Error: 481862.07197033265\n",
      "Epoch: 34 - Error: 483454.1015652838\n",
      "Epoch: 35 - Error: 484988.63355266117\n",
      "Epoch: 36 - Error: 486469.1331081823\n",
      "Epoch: 37 - Error: 487898.77720258286\n",
      "Epoch: 38 - Error: 489280.48527410993\n",
      "Epoch: 39 - Error: 490616.9459388765\n",
      "Epoch: 40 - Error: 491910.6403362789\n",
      "Epoch: 41 - Error: 493163.8626046203\n",
      "Epoch: 42 - Error: 494378.73789938184\n",
      "Epoch: 43 - Error: 495557.23829926853\n",
      "Epoch: 44 - Error: 496701.1968900126\n",
      "Epoch: 45 - Error: 497812.32027063944\n",
      "Epoch: 46 - Error: 498892.199689454\n",
      "Epoch: 47 - Error: 499942.3209859702\n",
      "Epoch: 48 - Error: 500964.0734891589\n",
      "Epoch: 49 - Error: 501958.7580007559\n"
     ]
    }
   ],
   "source": [
    "#Let's train the model:\n",
    "weights, beta, error_final = learn(epochs=50)"
   ]
  },
  {
   "cell_type": "markdown",
   "metadata": {},
   "source": [
    "## What Just Happened?\n",
    "\n",
    "So we've run our function. \n",
    "\n",
    "After 42300 iterations we can see that the model has *converged*. But why is the training error so high?\n",
    "\n",
    "It's **23.8200 points** as can be seen.\n",
    "But why is it that high? \n",
    "\n",
    "**So we admit it we cheated a little bit**. Since we're having 3 possible classes for prediction we should technically use an activation function that balances the probability such that the total sum of the probabalities for each class together would be 1. \n",
    "\n",
    "But here we're just considering them to be independent probabilities and taking the maximum one to determine the class. Hence the error will always be calculated from either 0 or 1. Hence when you look at an output it will never present an example like (1, 0, 0). There'll definitely be some error in at least one of the classes. Hence that error adds up. \n",
    "\n",
    "So next time we do a classification problem with multiple classes we'll actually use a **softmax** layer which will help perform better for this kind of problem."
   ]
  },
  {
   "cell_type": "markdown",
   "metadata": {},
   "source": [
    "## Testing and Validation\n",
    "\n",
    "Now that we've retreived a final set of weights and the bias after training we'll use these values to predict values in our test set and validate the model. \n",
    "\n",
    "We can use a variation of our prediction function and find the class that has maximum probability to determine the result for each test tuple."
   ]
  },
  {
   "cell_type": "code",
   "execution_count": 175,
   "metadata": {},
   "outputs": [
    {
     "name": "stdout",
     "output_type": "stream",
     "text": [
      "Number of correct predictions : 9116\n",
      "Total Number of predictions: 10000\n",
      "Accuracy: 91.16 %\n"
     ]
    }
   ],
   "source": [
    "result = predict(X_test, weights)\n",
    "comparision = np.argmax(result,axis=1).reshape(-1,1)==y_test.reshape(-1,1)\n",
    "num_correct = comparision.sum()\n",
    "num_total = y_test.shape[0]\n",
    "\n",
    "print (\"Number of correct predictions :\",num_correct)\n",
    "print (\"Total Number of predictions:\",num_total)\n",
    "print (\"Accuracy:\",float(num_correct)/num_total*100,\"%\")"
   ]
  },
  {
   "cell_type": "markdown",
   "metadata": {},
   "source": [
    "Let's quickly visualize this with a confusion matrix.\n",
    "\n",
    "### Confusion Matrix\n",
    "\n",
    "A *confusion matrix* is a specific table layout that allows visualization of the performance of an algorithm. So we can easily see our results and the accuracy of the model itself.\n",
    "\n",
    "You can actually **ignore** the next cell as it's just a function to plot the confusion matrix but we've included it in case you want to see how it's done."
   ]
  },
  {
   "cell_type": "code",
   "execution_count": 202,
   "metadata": {},
   "outputs": [],
   "source": [
    "def plot_confusion_matrix(cm, classes,\n",
    "                          normalize=False,\n",
    "                          title='Confusion matrix',\n",
    "                          cmap=plt.cm.Blues,\n",
    "                         verbose=False):\n",
    "    \"\"\"\n",
    "    This function prints and plots the confusion matrix.\n",
    "    Normalization can be applied by setting `normalize=True`.\n",
    "    \"\"\"\n",
    "    if normalize:\n",
    "        cm = cm.astype('float') / cm.sum(axis=1)[:, np.newaxis]\n",
    "        if verbose:\n",
    "            print(\"Normalized confusion matrix\")\n",
    "    else:\n",
    "        if verbose:\n",
    "            print('Confusion matrix, without normalization')\n",
    "\n",
    "    if verbose:\n",
    "        print(cm)\n",
    "\n",
    "    plt.imshow(cm, interpolation='nearest', cmap=cmap)\n",
    "    plt.title(title)\n",
    "    plt.colorbar()\n",
    "    tick_marks = np.arange(len(classes))\n",
    "    plt.xticks(tick_marks, classes, rotation=45)\n",
    "    plt.yticks(tick_marks, classes)\n",
    "\n",
    "    fmt = '.2f' if normalize else 'd'\n",
    "    thresh = cm.max() / 2.\n",
    "    for i, j in itertools.product(range(cm.shape[0]), range(cm.shape[1])):\n",
    "        plt.text(j, i, format(cm[i, j], fmt),\n",
    "                 horizontalalignment=\"center\",\n",
    "                 color=\"white\" if cm[i, j] > thresh else \"black\")\n",
    "\n",
    "    plt.tight_layout()\n",
    "    plt.ylabel('True label')\n",
    "    plt.xlabel('Predicted label')"
   ]
  },
  {
   "cell_type": "markdown",
   "metadata": {},
   "source": [
    "Now we'll generate the confusion matrix"
   ]
  },
  {
   "cell_type": "code",
   "execution_count": 200,
   "metadata": {},
   "outputs": [],
   "source": [
    "from sklearn.metrics import confusion_matrix\n",
    "\n",
    "matrix = confusion_matrix(y_test, np.argmax(predict(X_test, weights),axis=1))"
   ]
  },
  {
   "cell_type": "markdown",
   "metadata": {},
   "source": [
    "### Plotting"
   ]
  },
  {
   "cell_type": "code",
   "execution_count": 203,
   "metadata": {},
   "outputs": [
    {
     "data": {
      "image/png": "[encoded data removed]",
      "text/plain": [
       "<matplotlib.figure.Figure at 0x7ff214bdbf90>"
      ]
     },
     "metadata": {},
     "output_type": "display_data"
    },
    {
     "data": {
      "image/png": "[encoded data removed]",
      "text/plain": [
       "<matplotlib.figure.Figure at 0x7ff214b7ce90>"
      ]
     },
     "metadata": {},
     "output_type": "display_data"
    }
   ],
   "source": [
    "np.set_printoptions(precision=2)\n",
    "\n",
    "# Plot non-normalized confusion matrix\n",
    "plt.figure(figsize=(10, 10))\n",
    "plot_confusion_matrix(matrix, classes=map(str,range(10)),\n",
    "                      title='Confusion matrix, without normalization')\n",
    "\n",
    "# Plot normalized confusion matrix\n",
    "plt.figure(figsize=(10, 10))\n",
    "plot_confusion_matrix(matrix, classes=map(str,range(10)), normalize=True,\n",
    "                      title='Normalized confusion matrix')\n",
    "\n",
    "plt.show()"
   ]
  }
 ],
 "metadata": {
  "kernelspec": {
   "display_name": "Python 2",
   "language": "python",
   "name": "python2"
  },
  "language_info": {
   "codemirror_mode": {
    "name": "ipython",
    "version": 2
   },
   "file_extension": ".py",
   "mimetype": "text/x-python",
   "name": "python",
   "nbconvert_exporter": "python",
   "pygments_lexer": "ipython2",
   "version": "2.7.14"
  }
 },
 "nbformat": 4,
 "nbformat_minor": 2
}
