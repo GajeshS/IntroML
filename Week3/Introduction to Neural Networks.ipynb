{
 "cells": [
  {
   "cell_type": "markdown",
   "metadata": {},
   "source": [
    "# Neural Networks"
   ]
  },
  {
   "cell_type": "markdown",
   "metadata": {},
   "source": [
    "Now that we've implemented Logistic Regression, let's go ahead and move on to the next logical concept.<br>\n",
    "As we'd mentioned before Neural Networks can basically be considered as **multiple logical units** (logits) stacked as multiple layers.\n",
    "\n",
    "Let's understand the **basic structure** of a Neural Network."
   ]
  },
  {
   "cell_type": "markdown",
   "metadata": {},
   "source": [
    "![img](http://neuralnetworksanddeeplearning.com/images/tikz1.png)"
   ]
  },
  {
   "cell_type": "markdown",
   "metadata": {},
   "source": [
    "If you remembered our model from last week you'll actually see that it looks very much like this."
   ]
  },
  {
   "cell_type": "markdown",
   "metadata": {},
   "source": [
    "![title](static/logit.png)"
   ]
  },
  {
   "cell_type": "markdown",
   "metadata": {},
   "source": [
    "So there are a set of m inputs and a set of n outputs where we try to find the value of the weights give us the best possible prediction for a set of inputs. <br> And this is in fact **exactly how the first section of the Neural Network** from the first cell looks.\n",
    "\n",
    "Hence the intuition is that Logistic Regression can be **naturally extended** to build a Neural Network. In essense a Neural Network is in fact sets of *Logits* (Logical Units) that are stacked to form layers and multiple layers of the same to form a network of logits such that each logit in a layer has a set of weighted of inputs that are passed through a function to generate the output which will in turn be fed to a logit in the next layer."
   ]
  },
  {
   "cell_type": "markdown",
   "metadata": {},
   "source": [
    "### Hidden Layers\n",
    "\n",
    "You'll notice that the "
   ]
  }
 ],
 "metadata": {
  "kernelspec": {
   "display_name": "Python 2",
   "language": "python",
   "name": "python2"
  },
  "language_info": {
   "codemirror_mode": {
    "name": "ipython",
    "version": 2
   },
   "file_extension": ".py",
   "mimetype": "text/x-python",
   "name": "python",
   "nbconvert_exporter": "python",
   "pygments_lexer": "ipython2",
   "version": "2.7.12"
  }
 },
 "nbformat": 4,
 "nbformat_minor": 2
}
